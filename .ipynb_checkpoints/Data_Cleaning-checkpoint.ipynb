{
 "cells": [
  {
   "cell_type": "markdown",
   "id": "921f99db",
   "metadata": {},
   "source": [
    "- Data Cleaning Course on datacamp :\n",
    "    - course link : https://app.datacamp.com/learn/courses/cleaning-data-in-python"
   ]
  },
  {
   "cell_type": "markdown",
   "id": "9ff761ce",
   "metadata": {},
   "source": [
    "  "
   ]
  },
  {
   "cell_type": "markdown",
   "id": "c427ba66",
   "metadata": {},
   "source": [
    " # Chapter 1:\n",
    "- Data type constraints\n",
    "- Data Out Of Range \n",
    "- Duplicate Values "
   ]
  },
  {
   "cell_type": "markdown",
   "id": "03cd3ba6",
   "metadata": {},
   "source": [
    "- ## Data type constraints"
   ]
  },
  {
   "cell_type": "markdown",
   "id": "6961a535",
   "metadata": {},
   "source": [
    "### 1.import libraries and read data"
   ]
  },
  {
   "cell_type": "code",
   "execution_count": null,
   "id": "e68d62f0",
   "metadata": {},
   "outputs": [],
   "source": [
    "import pandas as pd\n",
    "df=pd.read_excel(\"candydata.xlsx\")\n",
    "# or\n",
    "df=pd.read_csv(\"candydata.CSV\")"
   ]
  },
  {
   "cell_type": "code",
   "execution_count": null,
   "id": "fef89fb8",
   "metadata": {},
   "outputs": [],
   "source": [
    "df.head(10)\n",
    "df.shape"
   ]
  },
  {
   "cell_type": "markdown",
   "id": "cb836746",
   "metadata": {},
   "source": [
    "### 2.info and description"
   ]
  },
  {
   "cell_type": "code",
   "execution_count": null,
   "id": "bd4473ac",
   "metadata": {},
   "outputs": [],
   "source": [
    "# Print the information of ride_sharing\n",
    "print(ride_sharing.info())\n",
    "\n",
    "# Print summary statistics of user_type column\n",
    "print(ride_sharing['user_type'].describe())\n",
    "\n",
    "# type of data\n",
    "ride_sharing.dtypes"
   ]
  },
  {
   "cell_type": "markdown",
   "id": "c2d04a4d",
   "metadata": {},
   "source": [
    "### 3.Summing strings and concatenating numbers"
   ]
  },
  {
   "cell_type": "code",
   "execution_count": null,
   "id": "419e0627",
   "metadata": {},
   "outputs": [],
   "source": [
    "#Strip duration of minutes\n",
    "ride_sharing['duration_trim'] = ride_sharing['duration'].str.strip('minutes')\n",
    "\n",
    "# Convert duration to integer\n",
    "ride_sharing['duration_time'] = ride_sharing['duration_trim'].astype('int')\n",
    "\n",
    "# Write an assert statement making sure of conversion\n",
    "assert ride_sharing['duration_time'].dtype == 'int'\n",
    "\n",
    "# Print formed columns and calculate average ride duration \n",
    "print(ride_sharing[['duration','duration_trim','duration_time']])\n",
    "print(ride_sharing['duration_time'].mean())"
   ]
  },
  {
   "cell_type": "markdown",
   "id": "666208cb",
   "metadata": {},
   "source": [
    "  "
   ]
  },
  {
   "cell_type": "markdown",
   "id": "9d928087",
   "metadata": {},
   "source": [
    "- ## Data Out Of Range :-"
   ]
  },
  {
   "cell_type": "markdown",
   "id": "6c7bf113",
   "metadata": {},
   "source": [
    "### 1.Tire size constraints"
   ]
  },
  {
   "cell_type": "code",
   "execution_count": null,
   "id": "fa5c61f7",
   "metadata": {},
   "outputs": [],
   "source": [
    "# Convert tire_sizes to integer\n",
    "ride_sharing['tire_sizes'] = ride_sharing['tire_sizes'].astype('int')\n",
    "\n",
    "# Set all values above 27 to 27\n",
    "ride_sharing.loc[ride_sharing['tire_sizes'] > 27, 'tire_sizes'] = 27\n",
    "\n",
    "# Reconvert tire_sizes back to categorical\n",
    "ride_sharing['tire_sizes'] = ride_sharing['tire_sizes'].astype('category')\n",
    "\n",
    "# Print tire size description\n",
    "print(ride_sharing['tire_sizes'].describe()"
   ]
  },
  {
   "cell_type": "markdown",
   "id": "662f218a",
   "metadata": {},
   "source": [
    "### 2.Dealing with datetime"
   ]
  },
  {
   "cell_type": "code",
   "execution_count": null,
   "id": "d626f179",
   "metadata": {},
   "outputs": [],
   "source": [
    "import datetime as dt\n",
    "\n",
    "# Convert ride_date to date\n",
    "ride_sharing['ride_dt'] = pd.to_datetime(ride_sharing['ride_date']).dt.date\n",
    "\n",
    "# Save today's date\n",
    "today = dt.date.today()\n",
    "\n",
    "# Set all in the future to today's date\n",
    "ride_sharing.loc[ride_sharing['ride_dt'] > today, 'ride_dt'] = today\n",
    "\n",
    "# Print maximum of ride_dt column\n",
    "print(ride_sharing['ride_dt'].max())"
   ]
  },
  {
   "cell_type": "markdown",
   "id": "dc22d042",
   "metadata": {},
   "source": [
    " "
   ]
  },
  {
   "cell_type": "markdown",
   "id": "2e664311",
   "metadata": {},
   "source": [
    "- ## Duplicate Values :-"
   ]
  },
  {
   "cell_type": "markdown",
   "id": "3bed1458",
   "metadata": {},
   "source": [
    "### 1.Find&Sort duplicated values"
   ]
  },
  {
   "cell_type": "code",
   "execution_count": null,
   "id": "038aefa3",
   "metadata": {},
   "outputs": [],
   "source": [
    "# Find duplicates\n",
    "rides=['ride_id']\n",
    "duplicates = ride_sharing.duplicated(subset=rides, keep=False)\n",
    "\n",
    "# Sort your duplicated rides\n",
    "duplicated_rides = ride_sharing[duplicates].sort_values(by='ride_id')\n",
    "\n",
    "# Print relevant columns of duplicated_rides\n",
    "print(duplicated_rides[['ride_id','duration','user_birth_year']])"
   ]
  },
  {
   "cell_type": "markdown",
   "id": "edb869e4",
   "metadata": {},
   "source": [
    "### 2.Treating duplicates"
   ]
  },
  {
   "cell_type": "code",
   "execution_count": null,
   "id": "e148dd01",
   "metadata": {},
   "outputs": [],
   "source": [
    "# Drop complete duplicates from ride_sharing\n",
    "ride_dup = ride_sharing.drop_duplicates()\n",
    "\n",
    "# Create statistics dictionary for aggregation function\n",
    "statistics = {'user_birth_year': 'min', 'duration': 'mean'}\n",
    "\n",
    "# Group by ride_id and compute new statistics\n",
    "ride_unique = ride_dup.groupby('ride_id ').agg(statistics).reset_index()\n",
    "\n",
    "# Find duplicated values again\n",
    "duplicates = ride_unique.duplicated(subset = 'ride_id', keep = False)\n",
    "duplicated_rides = ride_unique[duplicates == True]\n",
    "\n",
    "# Assert duplicates are processed\n",
    "assert duplicated_rides.shape[0] == 0"
   ]
  },
  {
   "cell_type": "markdown",
   "id": "ae84e802",
   "metadata": {},
   "source": [
    "  "
   ]
  },
  {
   "cell_type": "markdown",
   "id": "f9d7f379",
   "metadata": {},
   "source": [
    "  "
   ]
  },
  {
   "cell_type": "markdown",
   "id": "3fce41c3",
   "metadata": {},
   "source": [
    "# Chapter 2:"
   ]
  },
  {
   "cell_type": "code",
   "execution_count": null,
   "id": "1ab35504",
   "metadata": {},
   "outputs": [],
   "source": []
  }
 ],
 "metadata": {
  "kernelspec": {
   "display_name": "Python 3 (ipykernel)",
   "language": "python",
   "name": "python3"
  },
  "language_info": {
   "codemirror_mode": {
    "name": "ipython",
    "version": 3
   },
   "file_extension": ".py",
   "mimetype": "text/x-python",
   "name": "python",
   "nbconvert_exporter": "python",
   "pygments_lexer": "ipython3",
   "version": "3.9.13"
  }
 },
 "nbformat": 4,
 "nbformat_minor": 5
}
