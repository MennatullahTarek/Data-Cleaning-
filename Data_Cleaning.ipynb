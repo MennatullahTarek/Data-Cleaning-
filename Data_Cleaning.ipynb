{
 "cells": [
  {
   "cell_type": "markdown",
   "id": "921f99db",
   "metadata": {},
   "source": [
    "- Data Cleaning Course on datacamp :\n",
    "    - course link : https://app.datacamp.com/learn/courses/cleaning-data-in-python"
   ]
  },
  {
   "cell_type": "markdown",
   "id": "9ff761ce",
   "metadata": {},
   "source": [
    "  "
   ]
  },
  {
   "cell_type": "markdown",
   "id": "c427ba66",
   "metadata": {},
   "source": [
    "  # Chapter 1: Common data problems\n",
    " \n",
    "- Data type constraints\n",
    "- Data Out Of Range \n",
    "- Duplicate & Unique Values "
   ]
  },
  {
   "cell_type": "markdown",
   "id": "03cd3ba6",
   "metadata": {},
   "source": [
    "- ## Data type constraints :"
   ]
  },
  {
   "cell_type": "markdown",
   "id": "6961a535",
   "metadata": {},
   "source": [
    "### 1.import libraries and read data"
   ]
  },
  {
   "cell_type": "code",
   "execution_count": null,
   "id": "e68d62f0",
   "metadata": {},
   "outputs": [],
   "source": [
    "import pandas as pd\n",
    "df=pd.read_excel(\"candydata.xlsx\")\n",
    "# or\n",
    "df=pd.read_csv(\"candydata.CSV\")"
   ]
  },
  {
   "cell_type": "code",
   "execution_count": null,
   "id": "fef89fb8",
   "metadata": {},
   "outputs": [],
   "source": [
    "df.head(10)\n",
    "df.shape"
   ]
  },
  {
   "cell_type": "markdown",
   "id": "cb836746",
   "metadata": {},
   "source": [
    "### 2.info and description"
   ]
  },
  {
   "cell_type": "code",
   "execution_count": null,
   "id": "bd4473ac",
   "metadata": {},
   "outputs": [],
   "source": [
    "# Print the information of ride_sharing\n",
    "print(ride_sharing.info())\n",
    "\n",
    "# Print summary statistics of user_type column\n",
    "print(ride_sharing['user_type'].describe())\n",
    "\n",
    "# type of data\n",
    "ride_sharing.dtypes"
   ]
  },
  {
   "cell_type": "markdown",
   "id": "c2d04a4d",
   "metadata": {},
   "source": [
    "### 3.Summing strings and concatenating numbers"
   ]
  },
  {
   "cell_type": "code",
   "execution_count": null,
   "id": "419e0627",
   "metadata": {},
   "outputs": [],
   "source": [
    "#Strip duration of minutes\n",
    "ride_sharing['duration_trim'] = ride_sharing['duration'].str.strip('minutes')\n",
    "\n",
    "# Convert duration to integer\n",
    "ride_sharing['duration_time'] = ride_sharing['duration_trim'].astype('int')\n",
    "\n",
    "# Write an assert statement making sure of conversion\n",
    "assert ride_sharing['duration_time'].dtype == 'int'\n",
    "\n",
    "# Print formed columns and calculate average ride duration \n",
    "print(ride_sharing[['duration','duration_trim','duration_time']])\n",
    "print(ride_sharing['duration_time'].mean())"
   ]
  },
  {
   "cell_type": "markdown",
   "id": "666208cb",
   "metadata": {},
   "source": [
    "  "
   ]
  },
  {
   "cell_type": "markdown",
   "id": "9d928087",
   "metadata": {},
   "source": [
    "- ## Data Out Of Range :"
   ]
  },
  {
   "cell_type": "markdown",
   "id": "6c7bf113",
   "metadata": {},
   "source": [
    "### 1.Tire size constraints"
   ]
  },
  {
   "cell_type": "code",
   "execution_count": null,
   "id": "fa5c61f7",
   "metadata": {},
   "outputs": [],
   "source": [
    "# Convert tire_sizes to integer\n",
    "ride_sharing['tire_sizes'] = ride_sharing['tire_sizes'].astype('int')\n",
    "\n",
    "# Set all values above 27 to 27\n",
    "ride_sharing.loc[ride_sharing['tire_sizes'] > 27, 'tire_sizes'] = 27\n",
    "\n",
    "# Reconvert tire_sizes back to categorical\n",
    "ride_sharing['tire_sizes'] = ride_sharing['tire_sizes'].astype('category')\n",
    "\n",
    "# Print tire size description\n",
    "print(ride_sharing['tire_sizes'].describe()"
   ]
  },
  {
   "cell_type": "markdown",
   "id": "662f218a",
   "metadata": {},
   "source": [
    "### 2.Dealing with datetime"
   ]
  },
  {
   "cell_type": "code",
   "execution_count": null,
   "id": "d626f179",
   "metadata": {},
   "outputs": [],
   "source": [
    "import datetime as dt\n",
    "\n",
    "# Convert ride_date to date\n",
    "ride_sharing['ride_dt'] = pd.to_datetime(ride_sharing['ride_date']).dt.date\n",
    "\n",
    "# Save today's date\n",
    "today = dt.date.today()\n",
    "\n",
    "# Set all in the future to today's date\n",
    "ride_sharing.loc[ride_sharing['ride_dt'] > today, 'ride_dt'] = today\n",
    "\n",
    "# Print maximum of ride_dt column\n",
    "print(ride_sharing['ride_dt'].max())"
   ]
  },
  {
   "cell_type": "markdown",
   "id": "dc22d042",
   "metadata": {},
   "source": [
    " "
   ]
  },
  {
   "cell_type": "markdown",
   "id": "2e664311",
   "metadata": {},
   "source": [
    "- ## Duplicated & Unique Values :"
   ]
  },
  {
   "cell_type": "markdown",
   "id": "3bed1458",
   "metadata": {},
   "source": [
    "### 1.Find&Sort duplicated values"
   ]
  },
  {
   "cell_type": "code",
   "execution_count": null,
   "id": "038aefa3",
   "metadata": {},
   "outputs": [],
   "source": [
    "# Find duplicates\n",
    "rides=['ride_id']\n",
    "duplicates = ride_sharing.duplicated(subset=rides, keep=False)\n",
    "\n",
    "# Sort your duplicated rides\n",
    "duplicated_rides = ride_sharing[duplicates].sort_values(by='ride_id')\n",
    "\n",
    "# Print relevant columns of duplicated_rides\n",
    "print(duplicated_rides[['ride_id','duration','user_birth_year']])"
   ]
  },
  {
   "cell_type": "markdown",
   "id": "edb869e4",
   "metadata": {},
   "source": [
    "### 2.Treating duplicates"
   ]
  },
  {
   "cell_type": "code",
   "execution_count": null,
   "id": "e148dd01",
   "metadata": {},
   "outputs": [],
   "source": [
    "# Drop complete duplicates from ride_sharing\n",
    "ride_dup = ride_sharing.drop_duplicates()\n",
    "\n",
    "# Create statistics dictionary for aggregation function\n",
    "statistics = {'user_birth_year': 'min', 'duration': 'mean'}\n",
    "\n",
    "# Group by ride_id and compute new statistics\n",
    "ride_unique = ride_dup.groupby('ride_id ').agg(statistics).reset_index()\n",
    "\n",
    "# Find duplicated values again\n",
    "duplicates = ride_unique.duplicated(subset = 'ride_id', keep = False)\n",
    "duplicated_rides = ride_unique[duplicates == True]\n",
    "\n",
    "# Assert duplicates are processed\n",
    "assert duplicated_rides.shape[0] == 0"
   ]
  },
  {
   "cell_type": "markdown",
   "id": "ae84e802",
   "metadata": {},
   "source": [
    "  "
   ]
  },
  {
   "cell_type": "markdown",
   "id": "f9d7f379",
   "metadata": {},
   "source": [
    "  "
   ]
  },
  {
   "cell_type": "markdown",
   "id": "3fce41c3",
   "metadata": {},
   "source": [
    "# Chapter 2 : Text and categorical data problems\n",
    "\n",
    "- Find inconsistent values and drop them \n",
    "- Categorical Variables \n",
    "- Text data "
   ]
  },
  {
   "cell_type": "markdown",
   "id": "461351a2",
   "metadata": {},
   "source": [
    "- ## Find inconsistent values and drop them :"
   ]
  },
  {
   "cell_type": "markdown",
   "id": "faa253b8",
   "metadata": {},
   "source": [
    "### 1.Finding consistency"
   ]
  },
  {
   "cell_type": "code",
   "execution_count": null,
   "id": "6a438cd3",
   "metadata": {},
   "outputs": [],
   "source": [
    "# Print categories DataFrame\n",
    "print(categories)\n",
    "\n",
    "# Print unique values of survey columns in airlines\n",
    "print('Cleanliness: ', airlines['cleanliness'].unique(), \"\\n\")\n",
    "print('Safety: ', airlines['safety'].unique(), \"\\n\")\n",
    "print('Satisfaction: ',airlines['satisfaction'].unique(), \"\\n\")"
   ]
  },
  {
   "cell_type": "code",
   "execution_count": null,
   "id": "728e6e52",
   "metadata": {},
   "outputs": [],
   "source": [
    "# Find the cleanliness category in airlines not in categories\n",
    "cat_clean = set(airlines['cleanliness']).difference(categories['cleanliness'])\n",
    "\n",
    "# Find rows with that category\n",
    "cat_clean_rows = airlines['cleanliness'].isin(cat_clean)\n",
    "\n",
    "# Print rows with inconsistent category\n",
    "print(airlines[cat_clean_rows])\n",
    "\n",
    "# Print rows with consistent categories only\n",
    "print(airlines[~cat_clean_rows])"
   ]
  },
  {
   "cell_type": "markdown",
   "id": "dd787143",
   "metadata": {},
   "source": [
    " "
   ]
  },
  {
   "cell_type": "markdown",
   "id": "8487f90c",
   "metadata": {},
   "source": [
    "- ## Categorical Variables  :"
   ]
  },
  {
   "cell_type": "markdown",
   "id": "5a96bd5c",
   "metadata": {},
   "source": [
    "### 1.Inconsistent category "
   ]
  },
  {
   "cell_type": "code",
   "execution_count": null,
   "id": "b4ab4ba1",
   "metadata": {},
   "outputs": [],
   "source": [
    "# Print unique values of both columns\n",
    "print(airlines['dest_region'].unique())\n",
    "print(airlines['dest_size'].unique())\n",
    "\n",
    "# Lower dest_region column and then replace \"eur\" with \"europe\"\n",
    "airlines['dest_region'] = airlines['dest_region'].str.lower() \n",
    "airlines['dest_region'] = airlines['dest_region'].replace({'eur':'europe'})\n",
    "\n",
    "# Remove white spaces from `dest_size`\n",
    "airlines['dest_size'] = airlines['dest_size'].str.strip()\n",
    "\n",
    "# Verify changes have been effected\n",
    "print(airlines['dest_region'].unique())\n",
    "print(airlines['dest_size'].unique())"
   ]
  },
  {
   "cell_type": "markdown",
   "id": "9376c64b",
   "metadata": {},
   "source": [
    "### 2.Remapping categories"
   ]
  },
  {
   "cell_type": "code",
   "execution_count": null,
   "id": "4a7da5f9",
   "metadata": {},
   "outputs": [],
   "source": [
    "# Create ranges for categories\n",
    "label_ranges = [0, 60, 180, np.inf]\n",
    "label_names = ['short', 'medium', 'long']\n",
    "\n",
    "# Create wait_type column\n",
    "airlines['wait_type'] = pd.cut(airlines['wait_min'], bins = label_ranges, \n",
    "                                labels = label_names)\n",
    "\n",
    "# Create mappings and replace\n",
    "mappings = {'Monday':'weekday', 'Tuesday':'weekday', 'Wednesday': 'weekday', \n",
    "            'Thursday': 'weekday', 'Friday': 'weekday', \n",
    "            'Saturday': 'weekend', 'Sunday': 'weekend'}\n",
    "\n",
    "airlines['day_week'] = airlines['day'].replace(mappings)"
   ]
  },
  {
   "cell_type": "markdown",
   "id": "d5d1c963",
   "metadata": {},
   "source": [
    " "
   ]
  },
  {
   "cell_type": "markdown",
   "id": "65982a41",
   "metadata": {},
   "source": [
    "- ## Text Data :"
   ]
  },
  {
   "cell_type": "markdown",
   "id": "bbf28f94",
   "metadata": {},
   "source": [
    "### 1. Removing titles and taking names"
   ]
  },
  {
   "cell_type": "code",
   "execution_count": null,
   "id": "b43e5912",
   "metadata": {},
   "outputs": [],
   "source": [
    "# Replace \"Dr.\" with empty string \"\"\n",
    "airlines['full_name'] = airlines['full_name'].str.replace(\"Dr.\",\"\")\n",
    "\n",
    "# Replace \"Mr.\" with empty string \"\"\n",
    "airlines['full_name'] = airlines['full_name'].str.replace(\"Mr.\",\"\")\n",
    "\n",
    "# Replace \"Miss\" with empty string \"\"\n",
    "airlines['full_name'] = airlines['full_name'].str.replace(\"Miss\",\"\")\n",
    "\n",
    "\n",
    "# Replace \"Ms.\" with empty string \"\"\n",
    "airlines['full_name'] = airlines['full_name'].str.replace(\"Ms.\",\"\")\n",
    "\n",
    "# Assert that full_name has no honorifics\n",
    "assert airlines['full_name'].str.contains('Ms.|Mr.|Miss|Dr.').any() == False"
   ]
  },
  {
   "cell_type": "markdown",
   "id": "1ee041c5",
   "metadata": {},
   "source": [
    "### 2. Keeping it descriptive"
   ]
  },
  {
   "cell_type": "code",
   "execution_count": null,
   "id": "c818fce4",
   "metadata": {},
   "outputs": [],
   "source": [
    "# Store length of each row in survey_response column\n",
    "resp_length = airlines['survey_response'].str.len()\n",
    "\n",
    "# Find rows in airlines where resp_length > 40\n",
    "airlines_survey = airlines[resp_length > 40]\n",
    "\n",
    "# Assert minimum survey_response length is > 40\n",
    "assert airlines_survey['survey_response'].str.len().min() > 40\n",
    "\n",
    "# Print new survey_response column\n",
    "print(airlines_survey['survey_response'])"
   ]
  },
  {
   "cell_type": "markdown",
   "id": "c766d269",
   "metadata": {},
   "source": [
    " "
   ]
  },
  {
   "cell_type": "markdown",
   "id": "4874f698",
   "metadata": {},
   "source": [
    " "
   ]
  },
  {
   "cell_type": "markdown",
   "id": "43c1bc30",
   "metadata": {},
   "source": [
    "# Chapter 3 : Advanced data problems\n",
    "\n",
    "- Uniformity\n",
    "- Cross field validation | data integrity \n",
    "- Completeness | Missing data "
   ]
  },
  {
   "cell_type": "markdown",
   "id": "159255bc",
   "metadata": {},
   "source": [
    "- ## Uniformity :"
   ]
  },
  {
   "cell_type": "markdown",
   "id": "313a3420",
   "metadata": {},
   "source": [
    "### 1. Uniform Currencies "
   ]
  },
  {
   "cell_type": "code",
   "execution_count": null,
   "id": "5c828e5b",
   "metadata": {},
   "outputs": [],
   "source": [
    "# Find values of acct_cur that are equal to 'euro'\n",
    "acct_eu = banking['acct_cur'] == 'euro'\n",
    "\n",
    "# Convert acct_amount where it is in euro to dollars\n",
    "banking.loc[acct_eu, 'acct_amount'] = banking.loc[acct_eu, 'acct_amount'] * 1.1\n",
    "\n",
    "# Unify acct_cur column by changing 'euro' values to 'dollar'\n",
    "banking.loc[acct_eu, 'acct_cur'] = 'dollar'\n",
    "\n",
    "# Assert that only dollar currency remains\n",
    "assert banking['acct_cur'].unique() == 'dollar'"
   ]
  },
  {
   "cell_type": "markdown",
   "id": "c965f71f",
   "metadata": {},
   "source": [
    "### 2. Uniform dates"
   ]
  },
  {
   "cell_type": "code",
   "execution_count": null,
   "id": "dc0ab907",
   "metadata": {},
   "outputs": [],
   "source": [
    "# Print the header of account_opend\n",
    "print(banking['account_opened'].head())\n",
    "\n",
    "# Convert account_opened to datetime\n",
    "banking['account_opened'] = pd.to_datetime(banking['account_opened'],\n",
    "                                           # Infer datetime form \n",
    "infer_datetime_format = True,\n",
    "                                           # Return missing value for error\n",
    "errors = 'coerce') \n",
    "\n",
    "# Get year of account opened\n",
    "banking['acct_year'] = banking['account_opened'].dt.strftime('%Y')\n",
    "\n",
    "# Print acct_year\n",
    "print(banking['acct_year'] )"
   ]
  },
  {
   "cell_type": "markdown",
   "id": "4fb425dd",
   "metadata": {},
   "source": [
    " "
   ]
  },
  {
   "cell_type": "markdown",
   "id": "d16628c0",
   "metadata": {},
   "source": [
    "- ## Cross field validation | data integrity :"
   ]
  },
  {
   "cell_type": "markdown",
   "id": "3f8181cc",
   "metadata": {},
   "source": [
    "### 1.data integrity"
   ]
  },
  {
   "cell_type": "code",
   "execution_count": null,
   "id": "9eb27a03",
   "metadata": {},
   "outputs": [],
   "source": [
    "# Store fund columns to sum against\n",
    "fund_columns = ['fund_A', 'fund_B', 'fund_C', 'fund_D']\n",
    "\n",
    "# Find rows where fund_columns row sum == inv_amount\n",
    "inv_equ = banking[fund_columns].sum(axis=1) == banking['inv_amount']\n",
    "# Store consistent and inconsistent data\n",
    "consistent_inv = banking[inv_equ]\n",
    "inconsistent_inv = banking[~inv_equ]\n",
    "\n",
    "# Store consistent and inconsistent data\n",
    "print(\"Number of inconsistent investments: \", inconsistent_inv.shape[0])"
   ]
  },
  {
   "cell_type": "code",
   "execution_count": null,
   "id": "bc679086",
   "metadata": {},
   "outputs": [],
   "source": [
    "# Store today's date and find ages\n",
    "today = dt.date.today()\n",
    "ages_manual = today.year - banking['birth_date'].dt.year\n",
    "# Find rows where age column == ages_manual\n",
    "age_equ = ages_manual == banking['age']\n",
    "\n",
    "# Store consistent and inconsistent data\n",
    "consistent_ages = banking[age_equ]\n",
    "inconsistent_ages = banking[~age_equ]\n",
    "\n",
    "# Store consistent and inconsistent data\n",
    "print(\"Number of inconsistent ages: \", inconsistent_ages.shape[0])"
   ]
  },
  {
   "cell_type": "markdown",
   "id": "e5fa3e9d",
   "metadata": {},
   "source": [
    " "
   ]
  },
  {
   "cell_type": "markdown",
   "id": "3d022d7d",
   "metadata": {},
   "source": [
    "- ## Completeness | Missing data"
   ]
  },
  {
   "cell_type": "markdown",
   "id": "95f6102b",
   "metadata": {},
   "source": [
    "### 1.Find and Visualize missind data"
   ]
  },
  {
   "cell_type": "code",
   "execution_count": null,
   "id": "19493bbf",
   "metadata": {},
   "outputs": [],
   "source": [
    "# Print number of missing values in banking\n",
    "print(banking.isna().sum())\n",
    "\n",
    "# Visualize missingness matrix\n",
    "import missingno as msno\n",
    "import matplotlib.pyplot as plt\n",
    "msno.matrix(banking)\n",
    "plt.show()\n",
    "\n",
    "# Isolate missing and non missing values of inv_amount\n",
    "missing_investors = banking[banking['inv_amount'].isna()]\n",
    "investors = banking[~banking['inv_amount'].isna()]"
   ]
  },
  {
   "cell_type": "code",
   "execution_count": null,
   "id": "87e69630",
   "metadata": {},
   "outputs": [],
   "source": [
    "# Sort banking by age and visualize\n",
    "banking_sorted = banking.sort_values(by='age')\n",
    "msno.matrix(banking_sorted )\n",
    "plt.show()"
   ]
  },
  {
   "cell_type": "markdown",
   "id": "fa18c90c",
   "metadata": {},
   "source": [
    "### 2.Drop and Impute Missing"
   ]
  },
  {
   "cell_type": "code",
   "execution_count": null,
   "id": "7a6fcc4e",
   "metadata": {},
   "outputs": [],
   "source": [
    "# Drop missing values of cust_id\n",
    "banking_fullid = banking.dropna(subset = ['cust_id'])\n",
    "\n",
    "# Compute estimated acct_amount\n",
    "acct_imp = banking_fullid['inv_amount']*5\n",
    "\n",
    "\n",
    "# Impute missing acct_amount with corresponding acct_imp\n",
    "banking_imputed = banking_fullid.fillna({'acct_amount':acct_imp})\n",
    "\n",
    "# Print number of missing values\n",
    "print(banking_imputed.isna().sum())"
   ]
  }
 ],
 "metadata": {
  "kernelspec": {
   "display_name": "Python 3 (ipykernel)",
   "language": "python",
   "name": "python3"
  },
  "language_info": {
   "codemirror_mode": {
    "name": "ipython",
    "version": 3
   },
   "file_extension": ".py",
   "mimetype": "text/x-python",
   "name": "python",
   "nbconvert_exporter": "python",
   "pygments_lexer": "ipython3",
   "version": "3.9.13"
  }
 },
 "nbformat": 4,
 "nbformat_minor": 5
}
